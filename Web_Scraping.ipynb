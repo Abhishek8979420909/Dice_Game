{
  "nbformat": 4,
  "nbformat_minor": 0,
  "metadata": {
    "colab": {
      "provenance": [],
      "authorship_tag": "ABX9TyOS9+6t3pXUayKp7r2Wu5px",
      "include_colab_link": true
    },
    "kernelspec": {
      "name": "python3",
      "display_name": "Python 3"
    },
    "language_info": {
      "name": "python"
    }
  },
  "cells": [
    {
      "cell_type": "markdown",
      "metadata": {
        "id": "view-in-github",
        "colab_type": "text"
      },
      "source": [
        "<a href=\"https://colab.research.google.com/github/Abhishek8979420909/Dice_Game/blob/main/Web_Scraping.ipynb\" target=\"_parent\"><img src=\"https://colab.research.google.com/assets/colab-badge.svg\" alt=\"Open In Colab\"/></a>"
      ]
    },
    {
      "cell_type": "markdown",
      "source": [
        "<h1> Problem Statement </h1>\n",
        "<p><b>Question</b>: Write a pyhton fun that creates a CSV file containing details about the 25 top Github respositories for any given topic. You can view the top repositories for the topic machine-learning on this page: <a href=\"https://github.com/topics/machine-learning\">Page_link.</a> The output CSV should contain these details: repository name, owner's username, no. of stars, repository URL </p>"
      ],
      "metadata": {
        "id": "hYZPlLWw7ml7"
      }
    },
    {
      "cell_type": "markdown",
      "source": [
        "<b>Step-1:-</b><p>To solve this problem we need requests library. So, first we pip install requests library\n",
        "In the first we have to extract the content of the website by using response method </p>"
      ],
      "metadata": {
        "id": "iBm2uQN896tk"
      }
    },
    {
      "cell_type": "code",
      "execution_count": null,
      "metadata": {
        "colab": {
          "base_uri": "https://localhost:8080/"
        },
        "id": "h8m4NsuI6u-T",
        "outputId": "4f068d80-e15f-4400-84a7-11691107ceeb"
      },
      "outputs": [
        {
          "output_type": "stream",
          "name": "stdout",
          "text": [
            "\u001b[?25l   \u001b[90m━━━━━━━━━━━━━━━━━━━━━━━━━━━━━━━━━━━━━━━━\u001b[0m \u001b[32m0.0/143.0 kB\u001b[0m \u001b[31m?\u001b[0m eta \u001b[36m-:--:--\u001b[0m\r\u001b[2K   \u001b[91m━━━━━━━━━━━━━━━━━━━━━━━━━━━━━━━━━━━━━\u001b[0m\u001b[90m╺\u001b[0m\u001b[90m━━\u001b[0m \u001b[32m133.1/143.0 kB\u001b[0m \u001b[31m6.6 MB/s\u001b[0m eta \u001b[36m0:00:01\u001b[0m\r\u001b[2K   \u001b[90m━━━━━━━━━━━━━━━━━━━━━━━━━━━━━━━━━━━━━━━━\u001b[0m \u001b[32m143.0/143.0 kB\u001b[0m \u001b[31m3.7 MB/s\u001b[0m eta \u001b[36m0:00:00\u001b[0m\n",
            "\u001b[?25h"
          ]
        }
      ],
      "source": [
        "!pip install requests --upgrade --quiet\n",
        "!pip install beautifulsoup4==4.12.2 --upgrade --quiet\n"
      ]
    },
    {
      "cell_type": "code",
      "source": [
        "import requests\n",
        "import csv\n",
        "from bs4 import BeautifulSoup\n",
        "topic_url = 'https://github.com/topics/machine-learning'\n",
        "response = requests.get(topic_url) #this method gives you html content of the website."
      ],
      "metadata": {
        "id": "6v5iLFHs-a6b"
      },
      "execution_count": null,
      "outputs": []
    },
    {
      "cell_type": "code",
      "source": [
        "type(response)\n",
        "response.status_code #this method gives you status code of the website means if it give 400 to 499 that means your server is not giving any kind of response\n",
        "page_content = response.text #Now we get the html code but what we need is text of the website so for that we use .text attribute\n",
        "len(page_content) #503864 Now this website have that much text characters"
      ],
      "metadata": {
        "colab": {
          "base_uri": "https://localhost:8080/"
        },
        "id": "7sAVb_MXA3g8",
        "outputId": "2fcd3c98-f413-405f-cc2d-0967cf901705"
      },
      "execution_count": null,
      "outputs": [
        {
          "output_type": "execute_result",
          "data": {
            "text/plain": [
              "504188"
            ]
          },
          "metadata": {},
          "execution_count": 19
        }
      ]
    },
    {
      "cell_type": "code",
      "source": [
        "with open('webpage.html', 'w') as f:#this section of code is creating a file\n",
        "    f.write(page_content)"
      ],
      "metadata": {
        "id": "tkOJi4wIULD9"
      },
      "execution_count": null,
      "outputs": []
    },
    {
      "cell_type": "code",
      "source": [],
      "metadata": {
        "id": "f_HkG0FIYm1z"
      },
      "execution_count": null,
      "outputs": []
    }
  ]
}